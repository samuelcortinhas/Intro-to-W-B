{
 "cells": [
  {
   "cell_type": "markdown",
   "id": "d6de2eb8",
   "metadata": {
    "papermill": {
     "duration": 0.009233,
     "end_time": "2022-11-29T10:08:15.192397",
     "exception": false,
     "start_time": "2022-11-29T10:08:15.183164",
     "status": "completed"
    },
    "tags": []
   },
   "source": [
    "# 0. Introduction"
   ]
  },
  {
   "cell_type": "markdown",
   "id": "76ad5226",
   "metadata": {
    "papermill": {
     "duration": 0.007751,
     "end_time": "2022-11-29T10:08:15.208015",
     "exception": false,
     "start_time": "2022-11-29T10:08:15.200264",
     "status": "completed"
    },
    "tags": []
   },
   "source": [
    "<center>\n",
    "<img src='https://i.postimg.cc/dQhm7c9b/wandb-dash.jpg' width=700>\n",
    "</center>"
   ]
  },
  {
   "cell_type": "markdown",
   "id": "840a8936",
   "metadata": {
    "papermill": {
     "duration": 0.007439,
     "end_time": "2022-11-29T10:08:15.223201",
     "exception": false,
     "start_time": "2022-11-29T10:08:15.215762",
     "status": "completed"
    },
    "tags": []
   },
   "source": [
    "Wandb is a **free MLOps platform** used by developers to 'build better models faster'. It's capable of:\n",
    "\n",
    "* *Experiment tracking*\n",
    "* *Dataset versioning*\n",
    "* *Model management*\n",
    "\n",
    "In this notebook, we show how to create an account and **get started** with weights and biases."
   ]
  },
  {
   "cell_type": "code",
   "execution_count": 1,
   "id": "b71f5b72",
   "metadata": {
    "_kg_hide-input": true,
    "execution": {
     "iopub.execute_input": "2022-11-29T10:08:15.241972Z",
     "iopub.status.busy": "2022-11-29T10:08:15.241410Z",
     "iopub.status.idle": "2022-11-29T10:08:19.942994Z",
     "shell.execute_reply": "2022-11-29T10:08:19.941947Z"
    },
    "papermill": {
     "duration": 4.713479,
     "end_time": "2022-11-29T10:08:19.945595",
     "exception": false,
     "start_time": "2022-11-29T10:08:15.232116",
     "status": "completed"
    },
    "tags": []
   },
   "outputs": [],
   "source": [
    "import numpy as np\n",
    "import pandas as pd\n",
    "\n",
    "import tensorflow as tf\n",
    "from tensorflow import keras\n",
    "from keras import layers\n",
    "\n",
    "import os\n",
    "os.environ['TF_CPP_MIN_LOG_LEVEL'] = '3'\n",
    "\n",
    "# This turns off wandb logs\n",
    "#os.environ['WANDB_SILENT'] = 'true'"
   ]
  },
  {
   "cell_type": "markdown",
   "id": "3993a2c3",
   "metadata": {
    "papermill": {
     "duration": 0.007614,
     "end_time": "2022-11-29T10:08:19.961219",
     "exception": false,
     "start_time": "2022-11-29T10:08:19.953605",
     "status": "completed"
    },
    "tags": []
   },
   "source": [
    "# 1. Import wandb"
   ]
  },
  {
   "cell_type": "markdown",
   "id": "7823e804",
   "metadata": {
    "papermill": {
     "duration": 0.007881,
     "end_time": "2022-11-29T10:08:19.977446",
     "exception": false,
     "start_time": "2022-11-29T10:08:19.969565",
     "status": "completed"
    },
    "tags": []
   },
   "source": [
    "If you are working locally, then you need to first **install** the library using `pip install wandb`."
   ]
  },
  {
   "cell_type": "code",
   "execution_count": 2,
   "id": "9649cfb1",
   "metadata": {
    "execution": {
     "iopub.execute_input": "2022-11-29T10:08:19.994355Z",
     "iopub.status.busy": "2022-11-29T10:08:19.993807Z",
     "iopub.status.idle": "2022-11-29T10:08:20.666659Z",
     "shell.execute_reply": "2022-11-29T10:08:20.665477Z"
    },
    "papermill": {
     "duration": 0.684048,
     "end_time": "2022-11-29T10:08:20.669193",
     "exception": false,
     "start_time": "2022-11-29T10:08:19.985145",
     "status": "completed"
    },
    "tags": []
   },
   "outputs": [],
   "source": [
    "import wandb"
   ]
  },
  {
   "cell_type": "markdown",
   "id": "a1807ba6",
   "metadata": {
    "papermill": {
     "duration": 0.008405,
     "end_time": "2022-11-29T10:08:20.685558",
     "exception": false,
     "start_time": "2022-11-29T10:08:20.677153",
     "status": "completed"
    },
    "tags": []
   },
   "source": [
    "# 2. Create a free account"
   ]
  },
  {
   "cell_type": "markdown",
   "id": "15388736",
   "metadata": {
    "papermill": {
     "duration": 0.007474,
     "end_time": "2022-11-29T10:08:20.700680",
     "exception": false,
     "start_time": "2022-11-29T10:08:20.693206",
     "status": "completed"
    },
    "tags": []
   },
   "source": [
    "Go to https://wandb.ai/ and create a free account.\n",
    "\n",
    "<center>\n",
    "<img src='https://i.postimg.cc/D0WDxph9/wandb-site.png' width=600>\n",
    "</center>"
   ]
  },
  {
   "cell_type": "markdown",
   "id": "e7a80d8e",
   "metadata": {
    "papermill": {
     "duration": 0.007544,
     "end_time": "2022-11-29T10:08:20.715832",
     "exception": false,
     "start_time": "2022-11-29T10:08:20.708288",
     "status": "completed"
    },
    "tags": []
   },
   "source": [
    "Sign up using github, gmail, microsoft or just an email and password. Fill in your details and select a **personal account** (this is **free** and you get **unlimited tracking hours**).\n",
    "\n",
    "<center>\n",
    "<img src='https://i.postimg.cc/QNyVVFyC/wandb-signup.png' width=600>"
   ]
  },
  {
   "cell_type": "markdown",
   "id": "66bbad0d",
   "metadata": {
    "papermill": {
     "duration": 0.007463,
     "end_time": "2022-11-29T10:08:20.730932",
     "exception": false,
     "start_time": "2022-11-29T10:08:20.723469",
     "status": "completed"
    },
    "tags": []
   },
   "source": [
    "# 3. Get API key"
   ]
  },
  {
   "cell_type": "markdown",
   "id": "271d75b9",
   "metadata": {
    "papermill": {
     "duration": 0.007622,
     "end_time": "2022-11-29T10:08:20.746839",
     "exception": false,
     "start_time": "2022-11-29T10:08:20.739217",
     "status": "completed"
    },
    "tags": []
   },
   "source": [
    "An API key is a **unique indentifier** to authenticate a user to an API. Go to https://wandb.ai/authorize to get your unique key. \n",
    "\n",
    "<center>\n",
    "<img src='https://i.postimg.cc/HnvthbHF/wandb-apikey.png' width=600>"
   ]
  },
  {
   "cell_type": "markdown",
   "id": "bd1b6c45",
   "metadata": {
    "papermill": {
     "duration": 0.007516,
     "end_time": "2022-11-29T10:08:20.762106",
     "exception": false,
     "start_time": "2022-11-29T10:08:20.754590",
     "status": "completed"
    },
    "tags": []
   },
   "source": [
    "# 4. Create secret"
   ]
  },
  {
   "cell_type": "markdown",
   "id": "48bd4408",
   "metadata": {
    "papermill": {
     "duration": 0.007501,
     "end_time": "2022-11-29T10:08:20.777391",
     "exception": false,
     "start_time": "2022-11-29T10:08:20.769890",
     "status": "completed"
    },
    "tags": []
   },
   "source": [
    "Then you need to save your API key as a **secret** in kaggle. Click Add-ons at the top of your screen and then secrets.\n",
    "\n",
    "<center>\n",
    "<img src='https://i.postimg.cc/SxR6JgC9/wandb-secrets.png' width=600>"
   ]
  },
  {
   "cell_type": "markdown",
   "id": "3769d9e6",
   "metadata": {
    "papermill": {
     "duration": 0.007543,
     "end_time": "2022-11-29T10:08:20.792638",
     "exception": false,
     "start_time": "2022-11-29T10:08:20.785095",
     "status": "completed"
    },
    "tags": []
   },
   "source": [
    "Then click \"Add a new secret\".\n",
    "\n",
    "<center>\n",
    "<img src='https://i.postimg.cc/gJ3hh5gM/wandb-addsecret.png' width=600>"
   ]
  },
  {
   "cell_type": "markdown",
   "id": "43dbbbab",
   "metadata": {
    "papermill": {
     "duration": 0.007483,
     "end_time": "2022-11-29T10:08:20.807719",
     "exception": false,
     "start_time": "2022-11-29T10:08:20.800236",
     "status": "completed"
    },
    "tags": []
   },
   "source": [
    "Paste in your **API key** that you copied earlier into the \"value\" box and add a name in the \"label\" box. After this, click save.\n",
    "\n",
    "<center>\n",
    "<img src='https://i.postimg.cc/MTJCtMYW/wandb-labelvalue.png' width=600>"
   ]
  },
  {
   "cell_type": "markdown",
   "id": "4b7815f0",
   "metadata": {
    "papermill": {
     "duration": 0.007575,
     "end_time": "2022-11-29T10:08:20.822850",
     "exception": false,
     "start_time": "2022-11-29T10:08:20.815275",
     "status": "completed"
    },
    "tags": []
   },
   "source": [
    "Make sure the box \"Attach to Notebook\" is ticked for the new secret you created. Then press \"Done\"."
   ]
  },
  {
   "cell_type": "markdown",
   "id": "93be355d",
   "metadata": {
    "papermill": {
     "duration": 0.007515,
     "end_time": "2022-11-29T10:08:20.837976",
     "exception": false,
     "start_time": "2022-11-29T10:08:20.830461",
     "status": "completed"
    },
    "tags": []
   },
   "source": [
    "<center>\n",
    "<img src='https://i.postimg.cc/LXLppdT3/wandb-attach.png' width=600>"
   ]
  },
  {
   "cell_type": "markdown",
   "id": "7b272e71",
   "metadata": {
    "papermill": {
     "duration": 0.007489,
     "end_time": "2022-11-29T10:08:20.853140",
     "exception": false,
     "start_time": "2022-11-29T10:08:20.845651",
     "status": "completed"
    },
    "tags": []
   },
   "source": [
    "# 5. Login"
   ]
  },
  {
   "cell_type": "markdown",
   "id": "de06ee8e",
   "metadata": {
    "papermill": {
     "duration": 0.007716,
     "end_time": "2022-11-29T10:08:20.868560",
     "exception": false,
     "start_time": "2022-11-29T10:08:20.860844",
     "status": "completed"
    },
    "tags": []
   },
   "source": [
    "The `kaggle_secrets` library allows us to retrieve the secret we created and use it to login to weights and biases.\n",
    "\n",
    "Note: if you gave your secret a different **label** (i.e. different to `\"wandb_api_key\"`), then you have have to replace it in the third line of code below. "
   ]
  },
  {
   "cell_type": "code",
   "execution_count": 3,
   "id": "7fcc3945",
   "metadata": {
    "execution": {
     "iopub.execute_input": "2022-11-29T10:08:20.885982Z",
     "iopub.status.busy": "2022-11-29T10:08:20.885366Z",
     "iopub.status.idle": "2022-11-29T10:08:23.649421Z",
     "shell.execute_reply": "2022-11-29T10:08:23.648432Z"
    },
    "papermill": {
     "duration": 2.775358,
     "end_time": "2022-11-29T10:08:23.651515",
     "exception": false,
     "start_time": "2022-11-29T10:08:20.876157",
     "status": "completed"
    },
    "tags": []
   },
   "outputs": [
    {
     "name": "stderr",
     "output_type": "stream",
     "text": [
      "\u001b[34m\u001b[1mwandb\u001b[0m: W&B API key is configured. Use \u001b[1m`wandb login --relogin`\u001b[0m to force relogin\n",
      "\u001b[34m\u001b[1mwandb\u001b[0m: \u001b[33mWARNING\u001b[0m If you're specifying your api key in code, ensure this code is not shared publicly.\n",
      "\u001b[34m\u001b[1mwandb\u001b[0m: \u001b[33mWARNING\u001b[0m Consider setting the WANDB_API_KEY environment variable, or running `wandb login` from the command line.\n",
      "\u001b[34m\u001b[1mwandb\u001b[0m: Appending key for api.wandb.ai to your netrc file: /root/.netrc\n"
     ]
    },
    {
     "data": {
      "text/plain": [
       "True"
      ]
     },
     "execution_count": 3,
     "metadata": {},
     "output_type": "execute_result"
    }
   ],
   "source": [
    "from kaggle_secrets import UserSecretsClient\n",
    "\n",
    "user_secrets = UserSecretsClient()\n",
    "\n",
    "my_secret = user_secrets.get_secret(\"wandb_api_key\") \n",
    "\n",
    "wandb.login(key=my_secret)"
   ]
  },
  {
   "cell_type": "markdown",
   "id": "66188d3b",
   "metadata": {
    "papermill": {
     "duration": 0.007953,
     "end_time": "2022-11-29T10:08:23.667696",
     "exception": false,
     "start_time": "2022-11-29T10:08:23.659743",
     "status": "completed"
    },
    "tags": []
   },
   "source": [
    "# 6. Build model\n",
    "\n",
    "Now we build the model. Organise the **hyperparameters** you want to keep track of into a dictionary."
   ]
  },
  {
   "cell_type": "code",
   "execution_count": 4,
   "id": "aeb42738",
   "metadata": {
    "execution": {
     "iopub.execute_input": "2022-11-29T10:08:23.685024Z",
     "iopub.status.busy": "2022-11-29T10:08:23.684721Z",
     "iopub.status.idle": "2022-11-29T10:08:26.106723Z",
     "shell.execute_reply": "2022-11-29T10:08:26.105573Z"
    },
    "papermill": {
     "duration": 2.43349,
     "end_time": "2022-11-29T10:08:26.109326",
     "exception": false,
     "start_time": "2022-11-29T10:08:23.675836",
     "status": "completed"
    },
    "tags": []
   },
   "outputs": [
    {
     "name": "stdout",
     "output_type": "stream",
     "text": [
      "Downloading data from https://storage.googleapis.com/tensorflow/tf-keras-datasets/mnist.npz\n",
      "11493376/11490434 [==============================] - 1s 0us/step\n",
      "11501568/11490434 [==============================] - 1s 0us/step\n"
     ]
    },
    {
     "data": {
      "text/plain": [
       "((60000, 784), (10000, 784))"
      ]
     },
     "execution_count": 4,
     "metadata": {},
     "output_type": "execute_result"
    }
   ],
   "source": [
    "# Load MNIST dataset\n",
    "(X_train, y_train), (X_test, y_test) = tf.keras.datasets.mnist.load_data()\n",
    "\n",
    "# Normalise and reshape arrays\n",
    "X_train, X_test = X_train.reshape((-1, 784))/255.0, X_test.reshape((-1, 784))/255.0\n",
    "\n",
    "# Print shapes\n",
    "X_train.shape, X_test.shape"
   ]
  },
  {
   "cell_type": "code",
   "execution_count": 5,
   "id": "d7da1b90",
   "metadata": {
    "execution": {
     "iopub.execute_input": "2022-11-29T10:08:26.132122Z",
     "iopub.status.busy": "2022-11-29T10:08:26.131805Z",
     "iopub.status.idle": "2022-11-29T10:08:26.138436Z",
     "shell.execute_reply": "2022-11-29T10:08:26.137421Z"
    },
    "papermill": {
     "duration": 0.020666,
     "end_time": "2022-11-29T10:08:26.140803",
     "exception": false,
     "start_time": "2022-11-29T10:08:26.120137",
     "status": "completed"
    },
    "tags": []
   },
   "outputs": [],
   "source": [
    "def build_model():\n",
    "    # Define model\n",
    "    model = keras.Sequential([\n",
    "\n",
    "        # hidden layer 1\n",
    "        layers.Dense(units=CFG['layer1_units'], activation=CFG['layer1_act'], input_shape=[X_train.shape[1]]),\n",
    "        layers.Dropout(rate=CFG['layer1_drop']),\n",
    "\n",
    "        # hidden layer 2\n",
    "        layers.Dense(units=CFG['layer2_units'], activation=CFG['layer2_act']),\n",
    "        layers.Dropout(rate=CFG['layer2_drop']),\n",
    "\n",
    "        # output layer\n",
    "        layers.Dense(units=10, activation='softmax')\n",
    "    ])\n",
    "\n",
    "    # Define loss, optimizer and metric\n",
    "    model.compile(optimizer=keras.optimizers.Adam(learning_rate=CFG['learning_rate']),\n",
    "                  loss='sparse_categorical_crossentropy',\n",
    "                  metrics=['sparse_categorical_accuracy'])\n",
    "    \n",
    "    return model"
   ]
  },
  {
   "cell_type": "markdown",
   "id": "36f13088",
   "metadata": {
    "papermill": {
     "duration": 0.009278,
     "end_time": "2022-11-29T10:08:26.159410",
     "exception": false,
     "start_time": "2022-11-29T10:08:26.150132",
     "status": "completed"
    },
    "tags": []
   },
   "source": [
    "# 7. Create config file"
   ]
  },
  {
   "cell_type": "markdown",
   "id": "fb20035b",
   "metadata": {
    "papermill": {
     "duration": 0.00909,
     "end_time": "2022-11-29T10:08:26.177846",
     "exception": false,
     "start_time": "2022-11-29T10:08:26.168756",
     "status": "completed"
    },
    "tags": []
   },
   "source": [
    "The config file needs to be a **dictionary** - collect all the hyperparameters here."
   ]
  },
  {
   "cell_type": "code",
   "execution_count": 6,
   "id": "11e629f5",
   "metadata": {
    "execution": {
     "iopub.execute_input": "2022-11-29T10:08:26.198210Z",
     "iopub.status.busy": "2022-11-29T10:08:26.197337Z",
     "iopub.status.idle": "2022-11-29T10:08:26.202700Z",
     "shell.execute_reply": "2022-11-29T10:08:26.201889Z"
    },
    "papermill": {
     "duration": 0.017454,
     "end_time": "2022-11-29T10:08:26.204594",
     "exception": false,
     "start_time": "2022-11-29T10:08:26.187140",
     "status": "completed"
    },
    "tags": []
   },
   "outputs": [],
   "source": [
    "CFG = dict(\n",
    "    layer1_units = 256,\n",
    "    layer1_act = 'relu',\n",
    "    layer1_drop = 0.25,\n",
    "    layer2_units = 128,\n",
    "    layer2_act = 'relu',\n",
    "    layer2_drop = 0.25,\n",
    "    optimiser = 'Adam',\n",
    "    learning_rate = 0.01,\n",
    "    batch_size = 128,\n",
    "    epochs = 20,\n",
    ")"
   ]
  },
  {
   "cell_type": "markdown",
   "id": "24e65e6d",
   "metadata": {
    "papermill": {
     "duration": 0.009267,
     "end_time": "2022-11-29T10:08:26.223263",
     "exception": false,
     "start_time": "2022-11-29T10:08:26.213996",
     "status": "completed"
    },
    "tags": []
   },
   "source": [
    "# 8. Run experiment"
   ]
  },
  {
   "cell_type": "markdown",
   "id": "fce26256",
   "metadata": {
    "papermill": {
     "duration": 0.009281,
     "end_time": "2022-11-29T10:08:26.241961",
     "exception": false,
     "start_time": "2022-11-29T10:08:26.232680",
     "status": "completed"
    },
    "tags": []
   },
   "source": [
    "Use `run = wandb.init()` to start a new run and `run.finish()` to end one. The init method takes the following **parameters**:\n",
    "\n",
    "* `entity`: An entity is a username or team name where you're sending runs. \n",
    "* `project`: The name of the project where you're sending the new run. If the project is not specified, the run is put in an \"Uncategorized\" project.\n",
    "* `config`: This sets wandb.config, a dictionary-like object for saving inputs to your job, like hyperparameters for a model or settings for a data preprocessing job.\n",
    "* `save_code`: Turn this on to save the main script or notebook to W&B. This is valuable for improving experiment reproducibility and to diff code across experiments in the UI.\n",
    "* `group`: Specify a group to organize individual runs into a larger experiment. For example, you can use this to create groups for different model architectures.\n",
    "* `job_type`: Specify the type of run, which is useful when you're grouping runs together into larger experiments using group. Typical job types are \"train\", \"evaluate\", etc."
   ]
  },
  {
   "cell_type": "code",
   "execution_count": 7,
   "id": "adf85a07",
   "metadata": {
    "execution": {
     "iopub.execute_input": "2022-11-29T10:08:26.262410Z",
     "iopub.status.busy": "2022-11-29T10:08:26.261650Z",
     "iopub.status.idle": "2022-11-29T10:08:37.134164Z",
     "shell.execute_reply": "2022-11-29T10:08:37.133084Z"
    },
    "papermill": {
     "duration": 10.885476,
     "end_time": "2022-11-29T10:08:37.136923",
     "exception": false,
     "start_time": "2022-11-29T10:08:26.251447",
     "status": "completed"
    },
    "tags": []
   },
   "outputs": [
    {
     "name": "stderr",
     "output_type": "stream",
     "text": [
      "\u001b[34m\u001b[1mwandb\u001b[0m: Currently logged in as: \u001b[33mscortinhas\u001b[0m. Use \u001b[1m`wandb login --relogin`\u001b[0m to force relogin\n"
     ]
    },
    {
     "data": {
      "text/html": [
       "wandb version 0.13.5 is available!  To upgrade, please run:\n",
       " $ pip install wandb --upgrade"
      ],
      "text/plain": [
       "<IPython.core.display.HTML object>"
      ]
     },
     "metadata": {},
     "output_type": "display_data"
    },
    {
     "data": {
      "text/html": [
       "Tracking run with wandb version 0.12.21"
      ],
      "text/plain": [
       "<IPython.core.display.HTML object>"
      ]
     },
     "metadata": {},
     "output_type": "display_data"
    },
    {
     "data": {
      "text/html": [
       "Run data is saved locally in <code>/kaggle/working/wandb/run-20221129_100829-54awmm3b</code>"
      ],
      "text/plain": [
       "<IPython.core.display.HTML object>"
      ]
     },
     "metadata": {},
     "output_type": "display_data"
    },
    {
     "data": {
      "text/html": [
       "Syncing run <strong><a href=\"https://wandb.ai/scortinhas/mnist-tutorial/runs/54awmm3b\" target=\"_blank\">youthful-snow-13</a></strong> to <a href=\"https://wandb.ai/scortinhas/mnist-tutorial\" target=\"_blank\">Weights & Biases</a> (<a href=\"https://wandb.me/run\" target=\"_blank\">docs</a>)<br/>"
      ],
      "text/plain": [
       "<IPython.core.display.HTML object>"
      ]
     },
     "metadata": {},
     "output_type": "display_data"
    }
   ],
   "source": [
    "# Build model\n",
    "model = build_model()\n",
    "\n",
    "# Initialise run\n",
    "run = wandb.init(entity = 'scortinhas',\n",
    "                 project = 'mnist-tutorial',\n",
    "                 config = CFG,\n",
    "                 save_code = True,\n",
    "                 #group = 'ANN',\n",
    "                 #job_type = 'train'\n",
    ")"
   ]
  },
  {
   "cell_type": "markdown",
   "id": "887029cd",
   "metadata": {
    "papermill": {
     "duration": 0.0154,
     "end_time": "2022-11-29T10:08:37.169356",
     "exception": false,
     "start_time": "2022-11-29T10:08:37.153956",
     "status": "completed"
    },
    "tags": []
   },
   "source": [
    "Some frameworks, like keras, have a **callback function** that tracks all the metrics during training. Alternatively, you can use the **log method**, for example: `wandb.log({'accuracy': train_acc, 'loss': train_loss})`."
   ]
  },
  {
   "cell_type": "code",
   "execution_count": 8,
   "id": "43535f6b",
   "metadata": {
    "execution": {
     "iopub.execute_input": "2022-11-29T10:08:37.203838Z",
     "iopub.status.busy": "2022-11-29T10:08:37.203318Z",
     "iopub.status.idle": "2022-11-29T10:08:38.144526Z",
     "shell.execute_reply": "2022-11-29T10:08:38.143560Z"
    },
    "papermill": {
     "duration": 0.962025,
     "end_time": "2022-11-29T10:08:38.147331",
     "exception": false,
     "start_time": "2022-11-29T10:08:37.185306",
     "status": "completed"
    },
    "tags": []
   },
   "outputs": [],
   "source": [
    "from wandb.keras import WandbCallback"
   ]
  },
  {
   "cell_type": "code",
   "execution_count": 9,
   "id": "a37f5906",
   "metadata": {
    "_kg_hide-output": true,
    "execution": {
     "iopub.execute_input": "2022-11-29T10:08:38.179389Z",
     "iopub.status.busy": "2022-11-29T10:08:38.179004Z",
     "iopub.status.idle": "2022-11-29T10:09:32.017645Z",
     "shell.execute_reply": "2022-11-29T10:09:32.016666Z"
    },
    "papermill": {
     "duration": 53.857501,
     "end_time": "2022-11-29T10:09:32.019967",
     "exception": false,
     "start_time": "2022-11-29T10:08:38.162466",
     "status": "completed"
    },
    "tags": []
   },
   "outputs": [
    {
     "name": "stderr",
     "output_type": "stream",
     "text": [
      "\u001b[34m\u001b[1mwandb\u001b[0m: \u001b[33mWARNING\u001b[0m The save_model argument by default saves the model in the HDF5 format that cannot save custom objects like subclassed models and custom layers. This behavior will be deprecated in a future release in favor of the SavedModel format. Meanwhile, the HDF5 model is saved as W&B files and the SavedModel as W&B Artifacts.\n"
     ]
    },
    {
     "name": "stdout",
     "output_type": "stream",
     "text": [
      "Epoch 1/20\n",
      "469/469 [==============================] - 4s 5ms/step - loss: 0.3189 - sparse_categorical_accuracy: 0.9053 - val_loss: 0.1551 - val_sparse_categorical_accuracy: 0.9539\n",
      "Epoch 2/20\n",
      "469/469 [==============================] - 2s 3ms/step - loss: 0.2193 - sparse_categorical_accuracy: 0.9372 - val_loss: 0.1522 - val_sparse_categorical_accuracy: 0.9568\n",
      "Epoch 3/20\n",
      "469/469 [==============================] - 2s 4ms/step - loss: 0.2077 - sparse_categorical_accuracy: 0.9428 - val_loss: 0.1480 - val_sparse_categorical_accuracy: 0.9567\n",
      "Epoch 4/20\n",
      "469/469 [==============================] - 2s 4ms/step - loss: 0.1937 - sparse_categorical_accuracy: 0.9460 - val_loss: 0.1372 - val_sparse_categorical_accuracy: 0.9618\n",
      "Epoch 5/20\n",
      "469/469 [==============================] - 2s 4ms/step - loss: 0.1829 - sparse_categorical_accuracy: 0.9509 - val_loss: 0.1493 - val_sparse_categorical_accuracy: 0.9600\n",
      "Epoch 6/20\n",
      "469/469 [==============================] - 2s 4ms/step - loss: 0.1894 - sparse_categorical_accuracy: 0.9503 - val_loss: 0.1258 - val_sparse_categorical_accuracy: 0.9675\n",
      "Epoch 7/20\n",
      "469/469 [==============================] - 2s 4ms/step - loss: 0.1757 - sparse_categorical_accuracy: 0.9538 - val_loss: 0.1235 - val_sparse_categorical_accuracy: 0.9660\n",
      "Epoch 8/20\n",
      "469/469 [==============================] - 2s 4ms/step - loss: 0.1696 - sparse_categorical_accuracy: 0.9541 - val_loss: 0.1420 - val_sparse_categorical_accuracy: 0.9673\n",
      "Epoch 9/20\n",
      "469/469 [==============================] - 2s 3ms/step - loss: 0.1667 - sparse_categorical_accuracy: 0.9560 - val_loss: 0.1387 - val_sparse_categorical_accuracy: 0.9704\n",
      "Epoch 10/20\n",
      "469/469 [==============================] - 2s 4ms/step - loss: 0.1566 - sparse_categorical_accuracy: 0.9596 - val_loss: 0.1346 - val_sparse_categorical_accuracy: 0.9661\n",
      "Epoch 11/20\n",
      "469/469 [==============================] - 2s 4ms/step - loss: 0.1630 - sparse_categorical_accuracy: 0.9574 - val_loss: 0.1505 - val_sparse_categorical_accuracy: 0.9688\n",
      "Epoch 12/20\n",
      "469/469 [==============================] - 2s 4ms/step - loss: 0.1632 - sparse_categorical_accuracy: 0.9580 - val_loss: 0.1578 - val_sparse_categorical_accuracy: 0.9668\n",
      "Epoch 13/20\n",
      "469/469 [==============================] - 2s 4ms/step - loss: 0.1655 - sparse_categorical_accuracy: 0.9589 - val_loss: 0.1498 - val_sparse_categorical_accuracy: 0.9709\n",
      "Epoch 14/20\n",
      "469/469 [==============================] - 2s 4ms/step - loss: 0.1632 - sparse_categorical_accuracy: 0.9595 - val_loss: 0.1525 - val_sparse_categorical_accuracy: 0.9677\n",
      "Epoch 15/20\n",
      "469/469 [==============================] - 2s 4ms/step - loss: 0.1580 - sparse_categorical_accuracy: 0.9603 - val_loss: 0.1642 - val_sparse_categorical_accuracy: 0.9642\n",
      "Epoch 16/20\n",
      "469/469 [==============================] - 2s 3ms/step - loss: 0.1551 - sparse_categorical_accuracy: 0.9609 - val_loss: 0.1669 - val_sparse_categorical_accuracy: 0.9699\n",
      "Epoch 17/20\n",
      "469/469 [==============================] - 2s 4ms/step - loss: 0.1468 - sparse_categorical_accuracy: 0.9631 - val_loss: 0.1414 - val_sparse_categorical_accuracy: 0.9684\n",
      "Epoch 18/20\n",
      "469/469 [==============================] - 2s 3ms/step - loss: 0.1465 - sparse_categorical_accuracy: 0.9632 - val_loss: 0.1370 - val_sparse_categorical_accuracy: 0.9704\n",
      "Epoch 19/20\n",
      "469/469 [==============================] - 1s 3ms/step - loss: 0.1406 - sparse_categorical_accuracy: 0.9640 - val_loss: 0.1570 - val_sparse_categorical_accuracy: 0.9708\n",
      "Epoch 20/20\n",
      "469/469 [==============================] - 1s 3ms/step - loss: 0.1504 - sparse_categorical_accuracy: 0.9636 - val_loss: 0.1401 - val_sparse_categorical_accuracy: 0.9672\n"
     ]
    },
    {
     "data": {
      "text/plain": [
       "<keras.callbacks.History at 0x7f0f9817b5d0>"
      ]
     },
     "execution_count": 9,
     "metadata": {},
     "output_type": "execute_result"
    }
   ],
   "source": [
    "# Train model\n",
    "model.fit(X_train, y_train,\n",
    "    validation_data = (X_test, y_test),\n",
    "    batch_size = CFG['batch_size'],\n",
    "    epochs = CFG['epochs'],\n",
    "    callbacks = [WandbCallback()],\n",
    "    verbose = True)"
   ]
  },
  {
   "cell_type": "markdown",
   "id": "f2366ad2",
   "metadata": {
    "papermill": {
     "duration": 0.040947,
     "end_time": "2022-11-29T10:09:32.106432",
     "exception": false,
     "start_time": "2022-11-29T10:09:32.065485",
     "status": "completed"
    },
    "tags": []
   },
   "source": [
    "# 9. Save model as an Artifact"
   ]
  },
  {
   "cell_type": "markdown",
   "id": "808d6421",
   "metadata": {
    "papermill": {
     "duration": 0.045401,
     "end_time": "2022-11-29T10:09:32.192142",
     "exception": false,
     "start_time": "2022-11-29T10:09:32.146741",
     "status": "completed"
    },
    "tags": []
   },
   "source": [
    "Artifacts is a place to **save your data**. For example, this could be the **datasets** you use or the **model weights** after training. It is a very useful feature to ensure your work is **reproducible**. "
   ]
  },
  {
   "cell_type": "code",
   "execution_count": 10,
   "id": "d43c3d30",
   "metadata": {
    "execution": {
     "iopub.execute_input": "2022-11-29T10:09:32.275451Z",
     "iopub.status.busy": "2022-11-29T10:09:32.275102Z",
     "iopub.status.idle": "2022-11-29T10:09:33.701471Z",
     "shell.execute_reply": "2022-11-29T10:09:33.700544Z"
    },
    "papermill": {
     "duration": 1.47059,
     "end_time": "2022-11-29T10:09:33.704131",
     "exception": false,
     "start_time": "2022-11-29T10:09:32.233541",
     "status": "completed"
    },
    "tags": []
   },
   "outputs": [
    {
     "data": {
      "text/plain": [
       "<wandb.sdk.wandb_artifacts.Artifact at 0x7f0f981b7b10>"
      ]
     },
     "execution_count": 10,
     "metadata": {},
     "output_type": "execute_result"
    }
   ],
   "source": [
    "# Save model\n",
    "model.save('neural_network.h5')\n",
    "\n",
    "# Save model as an Artifact\n",
    "artifact = wandb.Artifact(name='neural_network', type='model')\n",
    "artifact.add_file('neural_network.h5')\n",
    "run.log_artifact(artifact)"
   ]
  },
  {
   "cell_type": "markdown",
   "id": "3f7b00a8",
   "metadata": {
    "papermill": {
     "duration": 0.041384,
     "end_time": "2022-11-29T10:09:33.786692",
     "exception": false,
     "start_time": "2022-11-29T10:09:33.745308",
     "status": "completed"
    },
    "tags": []
   },
   "source": [
    "Don't forget to **finish the run**. This is useful if you want to do multiple runs in one notebook."
   ]
  },
  {
   "cell_type": "code",
   "execution_count": 11,
   "id": "8ec3cc83",
   "metadata": {
    "execution": {
     "iopub.execute_input": "2022-11-29T10:09:33.871816Z",
     "iopub.status.busy": "2022-11-29T10:09:33.870905Z",
     "iopub.status.idle": "2022-11-29T10:09:48.544925Z",
     "shell.execute_reply": "2022-11-29T10:09:48.544065Z"
    },
    "papermill": {
     "duration": 14.717124,
     "end_time": "2022-11-29T10:09:48.546882",
     "exception": false,
     "start_time": "2022-11-29T10:09:33.829758",
     "status": "completed"
    },
    "tags": []
   },
   "outputs": [
    {
     "data": {
      "text/html": [
       "Waiting for W&B process to finish... <strong style=\"color:green\">(success).</strong>"
      ],
      "text/plain": [
       "<IPython.core.display.HTML object>"
      ]
     },
     "metadata": {},
     "output_type": "display_data"
    },
    {
     "data": {
      "application/vnd.jupyter.widget-view+json": {
       "model_id": "c779ce34e4bc49869865eae57de6d4d8",
       "version_major": 2,
       "version_minor": 0
      },
      "text/plain": [
       "VBox(children=(Label(value='5.471 MB of 5.471 MB uploaded (0.015 MB deduped)\\r'), FloatProgress(value=1.0, max…"
      ]
     },
     "metadata": {},
     "output_type": "display_data"
    },
    {
     "data": {
      "text/html": [
       "<style>\n",
       "    table.wandb td:nth-child(1) { padding: 0 10px; text-align: left ; width: auto;} td:nth-child(2) {text-align: left ; width: 100%}\n",
       "    .wandb-row { display: flex; flex-direction: row; flex-wrap: wrap; justify-content: flex-start; width: 100% }\n",
       "    .wandb-col { display: flex; flex-direction: column; flex-basis: 100%; flex: 1; padding: 10px; }\n",
       "    </style>\n",
       "<div class=\"wandb-row\"><div class=\"wandb-col\"><h3>Run history:</h3><br/><table class=\"wandb\"><tr><td>epoch</td><td>▁▁▂▂▂▃▃▄▄▄▅▅▅▆▆▇▇▇██</td></tr><tr><td>loss</td><td>█▄▄▃▃▃▂▂▂▂▂▂▂▂▂▂▁▁▁▁</td></tr><tr><td>sparse_categorical_accuracy</td><td>▁▅▅▆▆▆▇▇▇▇▇▇▇▇██████</td></tr><tr><td>val_loss</td><td>▆▆▅▃▅▁▁▄▃▃▅▇▅▆██▄▃▆▄</td></tr><tr><td>val_sparse_categorical_accuracy</td><td>▁▂▂▄▄▇▆▇█▆▇▆█▇▅█▇██▆</td></tr></table><br/></div><div class=\"wandb-col\"><h3>Run summary:</h3><br/><table class=\"wandb\"><tr><td>GFLOPS</td><td>0.00023</td></tr><tr><td>best_epoch</td><td>6</td></tr><tr><td>best_val_loss</td><td>0.12353</td></tr><tr><td>epoch</td><td>19</td></tr><tr><td>loss</td><td>0.15039</td></tr><tr><td>sparse_categorical_accuracy</td><td>0.96363</td></tr><tr><td>val_loss</td><td>0.14014</td></tr><tr><td>val_sparse_categorical_accuracy</td><td>0.9672</td></tr></table><br/></div></div>"
      ],
      "text/plain": [
       "<IPython.core.display.HTML object>"
      ]
     },
     "metadata": {},
     "output_type": "display_data"
    },
    {
     "data": {
      "text/html": [
       "Synced <strong style=\"color:#cdcd00\">youthful-snow-13</strong>: <a href=\"https://wandb.ai/scortinhas/mnist-tutorial/runs/54awmm3b\" target=\"_blank\">https://wandb.ai/scortinhas/mnist-tutorial/runs/54awmm3b</a><br/>Synced 6 W&B file(s), 1 media file(s), 3 artifact file(s) and 2 other file(s)"
      ],
      "text/plain": [
       "<IPython.core.display.HTML object>"
      ]
     },
     "metadata": {},
     "output_type": "display_data"
    },
    {
     "data": {
      "text/html": [
       "Find logs at: <code>./wandb/run-20221129_100829-54awmm3b/logs</code>"
      ],
      "text/plain": [
       "<IPython.core.display.HTML object>"
      ]
     },
     "metadata": {},
     "output_type": "display_data"
    }
   ],
   "source": [
    "# Complete W&B run\n",
    "run.finish()"
   ]
  },
  {
   "cell_type": "markdown",
   "id": "e2288574",
   "metadata": {
    "papermill": {
     "duration": 0.041297,
     "end_time": "2022-11-29T10:09:48.629544",
     "exception": false,
     "start_time": "2022-11-29T10:09:48.588247",
     "status": "completed"
    },
    "tags": []
   },
   "source": [
    "**Notes:**\n",
    "* You can see the **real time tracking** of results by clicking the **link** above.\n",
    "* You can **turn off logging** by using `os.environ['WANDB_SILENT'] = 'true'` at the start of the notebook."
   ]
  },
  {
   "cell_type": "markdown",
   "id": "8a6a1809",
   "metadata": {
    "papermill": {
     "duration": 0.040234,
     "end_time": "2022-11-29T10:09:48.710127",
     "exception": false,
     "start_time": "2022-11-29T10:09:48.669893",
     "status": "completed"
    },
    "tags": []
   },
   "source": [
    "# 10. Explore workspace"
   ]
  },
  {
   "cell_type": "markdown",
   "id": "a83591a6",
   "metadata": {
    "papermill": {
     "duration": 0.04125,
     "end_time": "2022-11-29T10:09:48.791663",
     "exception": false,
     "start_time": "2022-11-29T10:09:48.750413",
     "status": "completed"
    },
    "tags": []
   },
   "source": [
    "To view my **workspace** go to https://wandb.ai/scortinhas/mnist-tutorial?workspace=user-scortinhas (I have made this project public).\n",
    "\n",
    "<center>\n",
    "<img src='https://i.postimg.cc/XYjQ8wDR/wandb-run3.png' width=600>\n",
    "</center>"
   ]
  },
  {
   "cell_type": "markdown",
   "id": "5cd1e1c8",
   "metadata": {
    "papermill": {
     "duration": 0.04043,
     "end_time": "2022-11-29T10:09:48.872512",
     "exception": false,
     "start_time": "2022-11-29T10:09:48.832082",
     "status": "completed"
    },
    "tags": []
   },
   "source": [
    "On the left, you can also select to see a **table view** of the experiments."
   ]
  },
  {
   "cell_type": "markdown",
   "id": "6c2c59a6",
   "metadata": {
    "papermill": {
     "duration": 0.040389,
     "end_time": "2022-11-29T10:09:48.953550",
     "exception": false,
     "start_time": "2022-11-29T10:09:48.913161",
     "status": "completed"
    },
    "tags": []
   },
   "source": [
    "<center>\n",
    "<img src='https://i.postimg.cc/dV9d5pT6/wandb-table.png' width=600>\n",
    "</center>"
   ]
  },
  {
   "cell_type": "markdown",
   "id": "75b6c04e",
   "metadata": {
    "papermill": {
     "duration": 0.041447,
     "end_time": "2022-11-29T10:09:49.035850",
     "exception": false,
     "start_time": "2022-11-29T10:09:48.994403",
     "status": "completed"
    },
    "tags": []
   },
   "source": [
    "You can also see the **lineage** of our saved model in the **artifacts** tab. \n",
    "\n",
    "<center>\n",
    "<img src='https://i.postimg.cc/Gp8Db257/wandb-lineage.png' width=600>\n",
    "</center>"
   ]
  },
  {
   "cell_type": "markdown",
   "id": "405084a1",
   "metadata": {
    "papermill": {
     "duration": 0.041309,
     "end_time": "2022-11-29T10:09:49.119406",
     "exception": false,
     "start_time": "2022-11-29T10:09:49.078097",
     "status": "completed"
    },
    "tags": []
   },
   "source": [
    "# 11. Smoothing"
   ]
  },
  {
   "cell_type": "markdown",
   "id": "54008e34",
   "metadata": {
    "papermill": {
     "duration": 0.056031,
     "end_time": "2022-11-29T10:09:49.216865",
     "exception": false,
     "start_time": "2022-11-29T10:09:49.160834",
     "status": "completed"
    },
    "tags": []
   },
   "source": [
    "A nice additional feature is that you can apply **smoothing** to the plots by clicking the **iron symbol**. \n",
    "\n",
    "<center>\n",
    "<img src='https://i.postimg.cc/G2vqhz55/wandb-smooth.png' width=600>\n",
    "</center>"
   ]
  },
  {
   "cell_type": "markdown",
   "id": "09692818",
   "metadata": {
    "papermill": {
     "duration": 0.0417,
     "end_time": "2022-11-29T10:09:49.300872",
     "exception": false,
     "start_time": "2022-11-29T10:09:49.259172",
     "status": "completed"
    },
    "tags": []
   },
   "source": [
    "# 12. Parallel plots"
   ]
  },
  {
   "cell_type": "markdown",
   "id": "69ae3d3b",
   "metadata": {
    "papermill": {
     "duration": 0.040885,
     "end_time": "2022-11-29T10:09:49.382857",
     "exception": false,
     "start_time": "2022-11-29T10:09:49.341972",
     "status": "completed"
    },
    "tags": []
   },
   "source": [
    "Add a cool **parallel plot** by clicking on 'Add panel'.\n",
    "\n",
    "<center>\n",
    "<img src='https://i.postimg.cc/KjwzqrZm/wandb-parallel.png' width=600>\n",
    "</center>"
   ]
  },
  {
   "cell_type": "markdown",
   "id": "37964684",
   "metadata": {
    "papermill": {
     "duration": 0.040911,
     "end_time": "2022-11-29T10:09:49.465509",
     "exception": false,
     "start_time": "2022-11-29T10:09:49.424598",
     "status": "completed"
    },
    "tags": []
   },
   "source": [
    "Then select the **columns** you want to visualise.\n",
    "\n",
    "<center>\n",
    "<img src='https://i.postimg.cc/DZWmqMTx/wandb-addcols.png' width=600>\n",
    "</center>"
   ]
  },
  {
   "cell_type": "markdown",
   "id": "39d76b82",
   "metadata": {
    "papermill": {
     "duration": 0.041277,
     "end_time": "2022-11-29T10:09:49.548018",
     "exception": false,
     "start_time": "2022-11-29T10:09:49.506741",
     "status": "completed"
    },
    "tags": []
   },
   "source": [
    "Select 'switch to custom layout' for greater **flexibility** of the dashboard.\n",
    "\n",
    "<center>\n",
    "<img src='https://i.postimg.cc/0Q9cj715/wandb-custom.png' width=600>\n",
    "</center>"
   ]
  },
  {
   "cell_type": "markdown",
   "id": "1e336d25",
   "metadata": {
    "papermill": {
     "duration": 0.043133,
     "end_time": "2022-11-29T10:09:49.632675",
     "exception": false,
     "start_time": "2022-11-29T10:09:49.589542",
     "status": "completed"
    },
    "tags": []
   },
   "source": [
    "**Organise** the panels by dragging the **bottom right corners**.\n",
    "\n",
    "<center>\n",
    "<img src='https://i.postimg.cc/QMKF2d4X/wandb-organise2.png' width=600>\n",
    "</center>"
   ]
  },
  {
   "cell_type": "markdown",
   "id": "641a4359",
   "metadata": {
    "papermill": {
     "duration": 0.04139,
     "end_time": "2022-11-29T10:09:49.716256",
     "exception": false,
     "start_time": "2022-11-29T10:09:49.674866",
     "status": "completed"
    },
    "tags": []
   },
   "source": [
    "Run some **more experients** and you get something looking like this!\n",
    "\n",
    "<center>\n",
    "<img src='https://i.postimg.cc/GmxZQFJY/wandb-final.png' width=600>\n",
    "</center>"
   ]
  },
  {
   "cell_type": "markdown",
   "id": "bc7632b9",
   "metadata": {
    "papermill": {
     "duration": 0.041596,
     "end_time": "2022-11-29T10:09:49.798970",
     "exception": false,
     "start_time": "2022-11-29T10:09:49.757374",
     "status": "completed"
    },
    "tags": []
   },
   "source": [
    "**Part 2:**\n",
    "\n",
    "* [🐝 Advanced WandB: Hyper-parameter tuning (sweeps)](https://www.kaggle.com/code/samuelcortinhas/advanced-wandb-hyper-parameter-tuning-sweeps)"
   ]
  },
  {
   "cell_type": "markdown",
   "id": "e041ca95",
   "metadata": {
    "papermill": {
     "duration": 0.040298,
     "end_time": "2022-11-29T10:09:49.880281",
     "exception": false,
     "start_time": "2022-11-29T10:09:49.839983",
     "status": "completed"
    },
    "tags": []
   },
   "source": [
    "**References:**\n",
    "    \n",
    "* [Experiment Tracking with Weights and Biases](https://www.kaggle.com/code/ayuraj/experiment-tracking-with-weights-and-biases) "
   ]
  }
 ],
 "metadata": {
  "kernelspec": {
   "display_name": "Python 3",
   "language": "python",
   "name": "python3"
  },
  "language_info": {
   "codemirror_mode": {
    "name": "ipython",
    "version": 3
   },
   "file_extension": ".py",
   "mimetype": "text/x-python",
   "name": "python",
   "nbconvert_exporter": "python",
   "pygments_lexer": "ipython3",
   "version": "3.7.12"
  },
  "papermill": {
   "default_parameters": {},
   "duration": 105.581387,
   "end_time": "2022-11-29T10:09:52.942764",
   "environment_variables": {},
   "exception": null,
   "input_path": "__notebook__.ipynb",
   "output_path": "__notebook__.ipynb",
   "parameters": {},
   "start_time": "2022-11-29T10:08:07.361377",
   "version": "2.3.4"
  },
  "widgets": {
   "application/vnd.jupyter.widget-state+json": {
    "state": {
     "0839f4560df54ed4b7469a1fdd85ad84": {
      "model_module": "@jupyter-widgets/controls",
      "model_module_version": "1.5.0",
      "model_name": "VBoxModel",
      "state": {
       "_dom_classes": [],
       "_model_module": "@jupyter-widgets/controls",
       "_model_module_version": "1.5.0",
       "_model_name": "VBoxModel",
       "_view_count": null,
       "_view_module": "@jupyter-widgets/controls",
       "_view_module_version": "1.5.0",
       "_view_name": "VBoxView",
       "box_style": "",
       "children": [
        "IPY_MODEL_146eed0a1f0243848bc9bac1b90603c0",
        "IPY_MODEL_7e6218b45d6a48909ec7abd57436ebee"
       ],
       "layout": "IPY_MODEL_ad8b80b2ddcf4b37afde3cc6f3fc5070"
      }
     },
     "0b8573a1061c4824b982e59560765f99": {
      "model_module": "@jupyter-widgets/controls",
      "model_module_version": "1.5.0",
      "model_name": "ProgressStyleModel",
      "state": {
       "_model_module": "@jupyter-widgets/controls",
       "_model_module_version": "1.5.0",
       "_model_name": "ProgressStyleModel",
       "_view_count": null,
       "_view_module": "@jupyter-widgets/base",
       "_view_module_version": "1.2.0",
       "_view_name": "StyleView",
       "bar_color": null,
       "description_width": ""
      }
     },
     "146eed0a1f0243848bc9bac1b90603c0": {
      "model_module": "@jupyter-widgets/controls",
      "model_module_version": "1.5.0",
      "model_name": "LabelModel",
      "state": {
       "_dom_classes": [],
       "_model_module": "@jupyter-widgets/controls",
       "_model_module_version": "1.5.0",
       "_model_name": "LabelModel",
       "_view_count": null,
       "_view_module": "@jupyter-widgets/controls",
       "_view_module_version": "1.5.0",
       "_view_name": "LabelView",
       "description": "",
       "description_tooltip": null,
       "layout": "IPY_MODEL_efa68347ea574e60a0b00fa2e98f3474",
       "placeholder": "​",
       "style": "IPY_MODEL_bd0e00d29a414247bdf0a9ff85a0ad32",
       "value": ""
      }
     },
     "537493daab5a4cc1a9cc410468f88d9f": {
      "model_module": "@jupyter-widgets/controls",
      "model_module_version": "1.5.0",
      "model_name": "DescriptionStyleModel",
      "state": {
       "_model_module": "@jupyter-widgets/controls",
       "_model_module_version": "1.5.0",
       "_model_name": "DescriptionStyleModel",
       "_view_count": null,
       "_view_module": "@jupyter-widgets/base",
       "_view_module_version": "1.2.0",
       "_view_name": "StyleView",
       "description_width": ""
      }
     },
     "575f1687d76344d68f8147912122683e": {
      "model_module": "@jupyter-widgets/base",
      "model_module_version": "1.2.0",
      "model_name": "LayoutModel",
      "state": {
       "_model_module": "@jupyter-widgets/base",
       "_model_module_version": "1.2.0",
       "_model_name": "LayoutModel",
       "_view_count": null,
       "_view_module": "@jupyter-widgets/base",
       "_view_module_version": "1.2.0",
       "_view_name": "LayoutView",
       "align_content": null,
       "align_items": null,
       "align_self": null,
       "border": null,
       "bottom": null,
       "display": null,
       "flex": null,
       "flex_flow": null,
       "grid_area": null,
       "grid_auto_columns": null,
       "grid_auto_flow": null,
       "grid_auto_rows": null,
       "grid_column": null,
       "grid_gap": null,
       "grid_row": null,
       "grid_template_areas": null,
       "grid_template_columns": null,
       "grid_template_rows": null,
       "height": null,
       "justify_content": null,
       "justify_items": null,
       "left": null,
       "margin": null,
       "max_height": null,
       "max_width": null,
       "min_height": null,
       "min_width": null,
       "object_fit": null,
       "object_position": null,
       "order": null,
       "overflow": null,
       "overflow_x": null,
       "overflow_y": null,
       "padding": null,
       "right": null,
       "top": null,
       "visibility": null,
       "width": null
      }
     },
     "6cc77447ab3e4c82a72d502583b61770": {
      "model_module": "@jupyter-widgets/base",
      "model_module_version": "1.2.0",
      "model_name": "LayoutModel",
      "state": {
       "_model_module": "@jupyter-widgets/base",
       "_model_module_version": "1.2.0",
       "_model_name": "LayoutModel",
       "_view_count": null,
       "_view_module": "@jupyter-widgets/base",
       "_view_module_version": "1.2.0",
       "_view_name": "LayoutView",
       "align_content": null,
       "align_items": null,
       "align_self": null,
       "border": null,
       "bottom": null,
       "display": null,
       "flex": null,
       "flex_flow": null,
       "grid_area": null,
       "grid_auto_columns": null,
       "grid_auto_flow": null,
       "grid_auto_rows": null,
       "grid_column": null,
       "grid_gap": null,
       "grid_row": null,
       "grid_template_areas": null,
       "grid_template_columns": null,
       "grid_template_rows": null,
       "height": null,
       "justify_content": null,
       "justify_items": null,
       "left": null,
       "margin": null,
       "max_height": null,
       "max_width": null,
       "min_height": null,
       "min_width": null,
       "object_fit": null,
       "object_position": null,
       "order": null,
       "overflow": null,
       "overflow_x": null,
       "overflow_y": null,
       "padding": null,
       "right": null,
       "top": null,
       "visibility": null,
       "width": null
      }
     },
     "72beffc7b10c44b4a2b8cb48516717e5": {
      "model_module": "@jupyter-widgets/controls",
      "model_module_version": "1.5.0",
      "model_name": "ProgressStyleModel",
      "state": {
       "_model_module": "@jupyter-widgets/controls",
       "_model_module_version": "1.5.0",
       "_model_name": "ProgressStyleModel",
       "_view_count": null,
       "_view_module": "@jupyter-widgets/base",
       "_view_module_version": "1.2.0",
       "_view_name": "StyleView",
       "bar_color": null,
       "description_width": ""
      }
     },
     "7e6218b45d6a48909ec7abd57436ebee": {
      "model_module": "@jupyter-widgets/controls",
      "model_module_version": "1.5.0",
      "model_name": "FloatProgressModel",
      "state": {
       "_dom_classes": [],
       "_model_module": "@jupyter-widgets/controls",
       "_model_module_version": "1.5.0",
       "_model_name": "FloatProgressModel",
       "_view_count": null,
       "_view_module": "@jupyter-widgets/controls",
       "_view_module_version": "1.5.0",
       "_view_name": "ProgressView",
       "bar_style": "",
       "description": "",
       "description_tooltip": null,
       "layout": "IPY_MODEL_f7486ddac29f487780821a70fb47dc3f",
       "max": 1.0,
       "min": 0.0,
       "orientation": "horizontal",
       "style": "IPY_MODEL_0b8573a1061c4824b982e59560765f99",
       "value": 0.0
      }
     },
     "87c01285b798443596b47a584ce788a9": {
      "model_module": "@jupyter-widgets/controls",
      "model_module_version": "1.5.0",
      "model_name": "FloatProgressModel",
      "state": {
       "_dom_classes": [],
       "_model_module": "@jupyter-widgets/controls",
       "_model_module_version": "1.5.0",
       "_model_name": "FloatProgressModel",
       "_view_count": null,
       "_view_module": "@jupyter-widgets/controls",
       "_view_module_version": "1.5.0",
       "_view_name": "ProgressView",
       "bar_style": "",
       "description": "",
       "description_tooltip": null,
       "layout": "IPY_MODEL_db6d82fb4f804d9eaae1c3aac084db9b",
       "max": 1.0,
       "min": 0.0,
       "orientation": "horizontal",
       "style": "IPY_MODEL_72beffc7b10c44b4a2b8cb48516717e5",
       "value": 1.0
      }
     },
     "ad8b80b2ddcf4b37afde3cc6f3fc5070": {
      "model_module": "@jupyter-widgets/base",
      "model_module_version": "1.2.0",
      "model_name": "LayoutModel",
      "state": {
       "_model_module": "@jupyter-widgets/base",
       "_model_module_version": "1.2.0",
       "_model_name": "LayoutModel",
       "_view_count": null,
       "_view_module": "@jupyter-widgets/base",
       "_view_module_version": "1.2.0",
       "_view_name": "LayoutView",
       "align_content": null,
       "align_items": null,
       "align_self": null,
       "border": null,
       "bottom": null,
       "display": null,
       "flex": null,
       "flex_flow": null,
       "grid_area": null,
       "grid_auto_columns": null,
       "grid_auto_flow": null,
       "grid_auto_rows": null,
       "grid_column": null,
       "grid_gap": null,
       "grid_row": null,
       "grid_template_areas": null,
       "grid_template_columns": null,
       "grid_template_rows": null,
       "height": null,
       "justify_content": null,
       "justify_items": null,
       "left": null,
       "margin": null,
       "max_height": null,
       "max_width": null,
       "min_height": null,
       "min_width": null,
       "object_fit": null,
       "object_position": null,
       "order": null,
       "overflow": null,
       "overflow_x": null,
       "overflow_y": null,
       "padding": null,
       "right": null,
       "top": null,
       "visibility": null,
       "width": null
      }
     },
     "bd0e00d29a414247bdf0a9ff85a0ad32": {
      "model_module": "@jupyter-widgets/controls",
      "model_module_version": "1.5.0",
      "model_name": "DescriptionStyleModel",
      "state": {
       "_model_module": "@jupyter-widgets/controls",
       "_model_module_version": "1.5.0",
       "_model_name": "DescriptionStyleModel",
       "_view_count": null,
       "_view_module": "@jupyter-widgets/base",
       "_view_module_version": "1.2.0",
       "_view_name": "StyleView",
       "description_width": ""
      }
     },
     "c779ce34e4bc49869865eae57de6d4d8": {
      "model_module": "@jupyter-widgets/controls",
      "model_module_version": "1.5.0",
      "model_name": "VBoxModel",
      "state": {
       "_dom_classes": [],
       "_model_module": "@jupyter-widgets/controls",
       "_model_module_version": "1.5.0",
       "_model_name": "VBoxModel",
       "_view_count": null,
       "_view_module": "@jupyter-widgets/controls",
       "_view_module_version": "1.5.0",
       "_view_name": "VBoxView",
       "box_style": "",
       "children": [
        "IPY_MODEL_f1a07d6d036f44dc9fb0d1d6a20a318c",
        "IPY_MODEL_87c01285b798443596b47a584ce788a9"
       ],
       "layout": "IPY_MODEL_6cc77447ab3e4c82a72d502583b61770"
      }
     },
     "db6d82fb4f804d9eaae1c3aac084db9b": {
      "model_module": "@jupyter-widgets/base",
      "model_module_version": "1.2.0",
      "model_name": "LayoutModel",
      "state": {
       "_model_module": "@jupyter-widgets/base",
       "_model_module_version": "1.2.0",
       "_model_name": "LayoutModel",
       "_view_count": null,
       "_view_module": "@jupyter-widgets/base",
       "_view_module_version": "1.2.0",
       "_view_name": "LayoutView",
       "align_content": null,
       "align_items": null,
       "align_self": null,
       "border": null,
       "bottom": null,
       "display": null,
       "flex": null,
       "flex_flow": null,
       "grid_area": null,
       "grid_auto_columns": null,
       "grid_auto_flow": null,
       "grid_auto_rows": null,
       "grid_column": null,
       "grid_gap": null,
       "grid_row": null,
       "grid_template_areas": null,
       "grid_template_columns": null,
       "grid_template_rows": null,
       "height": null,
       "justify_content": null,
       "justify_items": null,
       "left": null,
       "margin": null,
       "max_height": null,
       "max_width": null,
       "min_height": null,
       "min_width": null,
       "object_fit": null,
       "object_position": null,
       "order": null,
       "overflow": null,
       "overflow_x": null,
       "overflow_y": null,
       "padding": null,
       "right": null,
       "top": null,
       "visibility": null,
       "width": null
      }
     },
     "efa68347ea574e60a0b00fa2e98f3474": {
      "model_module": "@jupyter-widgets/base",
      "model_module_version": "1.2.0",
      "model_name": "LayoutModel",
      "state": {
       "_model_module": "@jupyter-widgets/base",
       "_model_module_version": "1.2.0",
       "_model_name": "LayoutModel",
       "_view_count": null,
       "_view_module": "@jupyter-widgets/base",
       "_view_module_version": "1.2.0",
       "_view_name": "LayoutView",
       "align_content": null,
       "align_items": null,
       "align_self": null,
       "border": null,
       "bottom": null,
       "display": null,
       "flex": null,
       "flex_flow": null,
       "grid_area": null,
       "grid_auto_columns": null,
       "grid_auto_flow": null,
       "grid_auto_rows": null,
       "grid_column": null,
       "grid_gap": null,
       "grid_row": null,
       "grid_template_areas": null,
       "grid_template_columns": null,
       "grid_template_rows": null,
       "height": null,
       "justify_content": null,
       "justify_items": null,
       "left": null,
       "margin": null,
       "max_height": null,
       "max_width": null,
       "min_height": null,
       "min_width": null,
       "object_fit": null,
       "object_position": null,
       "order": null,
       "overflow": null,
       "overflow_x": null,
       "overflow_y": null,
       "padding": null,
       "right": null,
       "top": null,
       "visibility": null,
       "width": null
      }
     },
     "f1a07d6d036f44dc9fb0d1d6a20a318c": {
      "model_module": "@jupyter-widgets/controls",
      "model_module_version": "1.5.0",
      "model_name": "LabelModel",
      "state": {
       "_dom_classes": [],
       "_model_module": "@jupyter-widgets/controls",
       "_model_module_version": "1.5.0",
       "_model_name": "LabelModel",
       "_view_count": null,
       "_view_module": "@jupyter-widgets/controls",
       "_view_module_version": "1.5.0",
       "_view_name": "LabelView",
       "description": "",
       "description_tooltip": null,
       "layout": "IPY_MODEL_575f1687d76344d68f8147912122683e",
       "placeholder": "​",
       "style": "IPY_MODEL_537493daab5a4cc1a9cc410468f88d9f",
       "value": "5.523 MB of 5.523 MB uploaded (0.015 MB deduped)\r"
      }
     },
     "f7486ddac29f487780821a70fb47dc3f": {
      "model_module": "@jupyter-widgets/base",
      "model_module_version": "1.2.0",
      "model_name": "LayoutModel",
      "state": {
       "_model_module": "@jupyter-widgets/base",
       "_model_module_version": "1.2.0",
       "_model_name": "LayoutModel",
       "_view_count": null,
       "_view_module": "@jupyter-widgets/base",
       "_view_module_version": "1.2.0",
       "_view_name": "LayoutView",
       "align_content": null,
       "align_items": null,
       "align_self": null,
       "border": null,
       "bottom": null,
       "display": null,
       "flex": null,
       "flex_flow": null,
       "grid_area": null,
       "grid_auto_columns": null,
       "grid_auto_flow": null,
       "grid_auto_rows": null,
       "grid_column": null,
       "grid_gap": null,
       "grid_row": null,
       "grid_template_areas": null,
       "grid_template_columns": null,
       "grid_template_rows": null,
       "height": null,
       "justify_content": null,
       "justify_items": null,
       "left": null,
       "margin": null,
       "max_height": null,
       "max_width": null,
       "min_height": null,
       "min_width": null,
       "object_fit": null,
       "object_position": null,
       "order": null,
       "overflow": null,
       "overflow_x": null,
       "overflow_y": null,
       "padding": null,
       "right": null,
       "top": null,
       "visibility": null,
       "width": null
      }
     }
    },
    "version_major": 2,
    "version_minor": 0
   }
  }
 },
 "nbformat": 4,
 "nbformat_minor": 5
}
